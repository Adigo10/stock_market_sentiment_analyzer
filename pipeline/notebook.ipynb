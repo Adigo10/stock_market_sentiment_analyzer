{
 "cells": [
  {
   "cell_type": "code",
   "execution_count": 4,
   "id": "b58331de",
   "metadata": {},
   "outputs": [
    {
     "name": "stdout",
     "output_type": "stream",
     "text": [
      "Requirement already satisfied: sentence-transformers in /opt/anaconda3/lib/python3.13/site-packages (from -r requirements.txt (line 1)) (5.1.2)\n",
      "Requirement already satisfied: numpy in /opt/anaconda3/lib/python3.13/site-packages (from -r requirements.txt (line 2)) (2.1.3)\n",
      "Requirement already satisfied: scikit-learn in /opt/anaconda3/lib/python3.13/site-packages (from -r requirements.txt (line 3)) (1.6.1)\n",
      "Requirement already satisfied: transformers in /opt/anaconda3/lib/python3.13/site-packages (from -r requirements.txt (line 4)) (4.57.1)\n",
      "Requirement already satisfied: tqdm in /opt/anaconda3/lib/python3.13/site-packages (from sentence-transformers->-r requirements.txt (line 1)) (4.67.1)\n",
      "Requirement already satisfied: torch>=1.11.0 in /opt/anaconda3/lib/python3.13/site-packages (from sentence-transformers->-r requirements.txt (line 1)) (2.9.0)\n",
      "Requirement already satisfied: scipy in /opt/anaconda3/lib/python3.13/site-packages (from sentence-transformers->-r requirements.txt (line 1)) (1.15.3)\n",
      "Requirement already satisfied: huggingface-hub>=0.20.0 in /opt/anaconda3/lib/python3.13/site-packages (from sentence-transformers->-r requirements.txt (line 1)) (0.36.0)\n",
      "Requirement already satisfied: Pillow in /opt/anaconda3/lib/python3.13/site-packages (from sentence-transformers->-r requirements.txt (line 1)) (11.1.0)\n",
      "Requirement already satisfied: typing_extensions>=4.5.0 in /opt/anaconda3/lib/python3.13/site-packages (from sentence-transformers->-r requirements.txt (line 1)) (4.12.2)\n",
      "Requirement already satisfied: filelock in /opt/anaconda3/lib/python3.13/site-packages (from transformers->-r requirements.txt (line 4)) (3.17.0)\n",
      "Requirement already satisfied: packaging>=20.0 in /opt/anaconda3/lib/python3.13/site-packages (from transformers->-r requirements.txt (line 4)) (24.2)\n",
      "Requirement already satisfied: pyyaml>=5.1 in /opt/anaconda3/lib/python3.13/site-packages (from transformers->-r requirements.txt (line 4)) (6.0.2)\n",
      "Requirement already satisfied: regex!=2019.12.17 in /opt/anaconda3/lib/python3.13/site-packages (from transformers->-r requirements.txt (line 4)) (2024.11.6)\n",
      "Requirement already satisfied: requests in /opt/anaconda3/lib/python3.13/site-packages (from transformers->-r requirements.txt (line 4)) (2.32.3)\n",
      "Requirement already satisfied: tokenizers<=0.23.0,>=0.22.0 in /opt/anaconda3/lib/python3.13/site-packages (from transformers->-r requirements.txt (line 4)) (0.22.1)\n",
      "Requirement already satisfied: safetensors>=0.4.3 in /opt/anaconda3/lib/python3.13/site-packages (from transformers->-r requirements.txt (line 4)) (0.6.2)\n",
      "Requirement already satisfied: fsspec>=2023.5.0 in /opt/anaconda3/lib/python3.13/site-packages (from huggingface-hub>=0.20.0->sentence-transformers->-r requirements.txt (line 1)) (2025.3.2)\n",
      "Requirement already satisfied: hf-xet<2.0.0,>=1.1.3 in /opt/anaconda3/lib/python3.13/site-packages (from huggingface-hub>=0.20.0->sentence-transformers->-r requirements.txt (line 1)) (1.2.0)\n",
      "Requirement already satisfied: joblib>=1.2.0 in /opt/anaconda3/lib/python3.13/site-packages (from scikit-learn->-r requirements.txt (line 3)) (1.4.2)\n",
      "Requirement already satisfied: threadpoolctl>=3.1.0 in /opt/anaconda3/lib/python3.13/site-packages (from scikit-learn->-r requirements.txt (line 3)) (3.5.0)\n",
      "Requirement already satisfied: setuptools in /opt/anaconda3/lib/python3.13/site-packages (from torch>=1.11.0->sentence-transformers->-r requirements.txt (line 1)) (72.1.0)\n",
      "Requirement already satisfied: sympy>=1.13.3 in /opt/anaconda3/lib/python3.13/site-packages (from torch>=1.11.0->sentence-transformers->-r requirements.txt (line 1)) (1.13.3)\n",
      "Requirement already satisfied: networkx>=2.5.1 in /opt/anaconda3/lib/python3.13/site-packages (from torch>=1.11.0->sentence-transformers->-r requirements.txt (line 1)) (3.4.2)\n",
      "Requirement already satisfied: jinja2 in /opt/anaconda3/lib/python3.13/site-packages (from torch>=1.11.0->sentence-transformers->-r requirements.txt (line 1)) (3.1.6)\n",
      "Requirement already satisfied: mpmath<1.4,>=1.1.0 in /opt/anaconda3/lib/python3.13/site-packages (from sympy>=1.13.3->torch>=1.11.0->sentence-transformers->-r requirements.txt (line 1)) (1.3.0)\n",
      "Requirement already satisfied: MarkupSafe>=2.0 in /opt/anaconda3/lib/python3.13/site-packages (from jinja2->torch>=1.11.0->sentence-transformers->-r requirements.txt (line 1)) (3.0.2)\n",
      "Requirement already satisfied: charset-normalizer<4,>=2 in /opt/anaconda3/lib/python3.13/site-packages (from requests->transformers->-r requirements.txt (line 4)) (3.3.2)\n",
      "Requirement already satisfied: idna<4,>=2.5 in /opt/anaconda3/lib/python3.13/site-packages (from requests->transformers->-r requirements.txt (line 4)) (3.7)\n",
      "Requirement already satisfied: urllib3<3,>=1.21.1 in /opt/anaconda3/lib/python3.13/site-packages (from requests->transformers->-r requirements.txt (line 4)) (2.3.0)\n",
      "Requirement already satisfied: certifi>=2017.4.17 in /opt/anaconda3/lib/python3.13/site-packages (from requests->transformers->-r requirements.txt (line 4)) (2025.8.3)\n"
     ]
    }
   ],
   "source": [
    "!pip install -r requirements.txt"
   ]
  },
  {
   "cell_type": "markdown",
   "id": "2de09e56",
   "metadata": {},
   "source": [
    "## Sentence Transformer Model Comparison\n",
    "\n",
    "| Model | Size | Speed | Quality | Use Case |\n",
    "|-------|------|-------|---------|----------|\n",
    "| `all-MiniLM-L6-v2` | 80MB | Fast | Good | Quick prototyping |\n",
    "| `all-mpnet-base-v2` | 420MB | Medium | Best | Production quality |\n",
    "| `paraphrase-MiniLM-L6-v2` | 80MB | Fast | Good | Paraphrase detection |\n",
    "| `multi-qa-MiniLM-L6-cos-v1` | 80MB | Fast | Good | Question-answering similarity |\n"
   ]
  },
  {
   "cell_type": "code",
   "execution_count": 2,
   "id": "1fc8343b",
   "metadata": {},
   "outputs": [
    {
     "name": "stdout",
     "output_type": "stream",
     "text": [
      " Imports successful\n"
     ]
    }
   ],
   "source": [
    "from pipeline import SimilarityExpansionPipeline"
   ]
  },
  {
   "cell_type": "code",
   "execution_count": 3,
   "id": "e2ef26e0",
   "metadata": {},
   "outputs": [
    {
     "name": "stdout",
     "output_type": "stream",
     "text": [
      " Initializing Similarity Expansion Pipeline...\n",
      " Loaded model: all-MiniLM-L6-v2\n",
      "   Similarity threshold: 0.5\n",
      "   Top-K: 10\n"
     ]
    }
   ],
   "source": [
    "pipeline = SimilarityExpansionPipeline(\n",
    "    model_name='all-MiniLM-L6-v2',\n",
    "    similarity_threshold=0.5,\n",
    "    top_k=10\n",
    ")"
   ]
  },
  {
   "cell_type": "code",
   "execution_count": 4,
   "id": "33600c57",
   "metadata": {},
   "outputs": [
    {
     "name": "stdout",
     "output_type": "stream",
     "text": [
      "======================================================================\n",
      "SIMILARITY-BASED EXPANSION PIPELINE\n",
      "======================================================================\n",
      "\n",
      " Loading input file: sample.json\n",
      " Loaded 25 articles\n",
      "\n",
      " Separating articles: taking top 5 by rank_score, rest as remaining...\n",
      " Top 5 articles: 5\n",
      " Remaining articles: 20\n",
      "\n",
      " Top 5 Articles (by rank_score):\n",
      "   [2010] Sample Headline 1 in technology from Broadcom... (score: 0.90)\n",
      "   [2011] Sample Headline 2 in finance from Reuters... (score: 0.89)\n",
      "   [2012] Sample Headline 3 in healthcare from Tesla... (score: 0.88)\n",
      "   [2013] Sample Headline 4 in energy from Pfizer... (score: 0.87)\n",
      "   [2014] Sample Headline 5 in automotive from Bloomberg... (score: 0.86)\n",
      "\n",
      " Starting similarity computation...\n",
      "\n",
      " Step 1: Generating summaries for top 5 articles...\n",
      "   Article 2010: Sample summary for headline 1, issued by Broadcom regarding technology...\n",
      "   Article 2011: Sample summary for headline 2, issued by Reuters regarding finance....\n",
      "   Article 2012: Sample summary for headline 3, issued by Tesla regarding healthcare....\n",
      "   Article 2013: Sample summary for headline 4, issued by Pfizer regarding energy....\n",
      "   Article 2014: Sample summary for headline 5, issued by Bloomberg regarding automotiv...\n",
      "\n",
      " Combined summary length: 347 characters\n",
      "\n",
      " Step 2: Encoding texts with Sentence Transformer...\n",
      " Encoded 20 article embeddings\n",
      "\n",
      " Step 3: Computing cosine similarity scores...\n",
      " Similarity scores computed\n",
      "\n",
      " Top 10 similarity scores:\n",
      "   1. Article 2021: 0.7306\n",
      "   2. Article 2016: 0.7145\n",
      "   3. Article 2031: 0.7120\n",
      "   4. Article 2026: 0.7063\n",
      "   5. Article 2032: 0.6857\n",
      "   6. Article 2019: 0.6839\n",
      "   7. Article 2027: 0.6827\n",
      "   8. Article 2022: 0.6800\n",
      "   9. Article 2017: 0.6761\n",
      "   10. Article 2025: 0.6748\n",
      "\n",
      " Step 4: Selecting articles...\n",
      "   Target: Top 10 + any above 0.5 threshold\n",
      "     Added article 2020 (score: 0.6726)\n",
      "     Added article 2029 (score: 0.6693)\n",
      "     Added article 2024 (score: 0.6672)\n",
      "     Added article 2015 (score: 0.6629)\n",
      "     Added article 2034 (score: 0.6626)\n",
      "     Added article 2030 (score: 0.6564)\n",
      "     Added article 2033 (score: 0.5991)\n",
      "     Added article 2018 (score: 0.5977)\n",
      "     Added article 2028 (score: 0.5905)\n",
      "     Added article 2023 (score: 0.5861)\n",
      "\n",
      " Selected 20 articles:\n",
      "   - Top 10: 10 articles\n",
      "   - Above threshold: 10 articles\n",
      "\n",
      " Combining and saving results...\n",
      " Saved 25 articles to output.json\n",
      "\n",
      " Final composition:\n",
      "   - Top 5 (with rank_score): 5\n",
      "   - Selected similar articles: 20\n",
      "   - Total: 25\n",
      "\n",
      "======================================================================\n",
      " PIPELINE COMPLETE\n",
      "======================================================================\n"
     ]
    }
   ],
   "source": [
    "INPUT_FILE = 'sample.json' #Aditya pls change if required\n",
    "OUTPUT_FILE = 'output.json'\n",
    "\n",
    "final_articles = pipeline.run(INPUT_FILE, OUTPUT_FILE)"
   ]
  },
  {
   "cell_type": "code",
   "execution_count": null,
   "id": "0307c675",
   "metadata": {},
   "outputs": [],
   "source": [
    "pipeline.visualize_results(final_articles)"
   ]
  }
 ],
 "metadata": {
  "kernelspec": {
   "display_name": "base",
   "language": "python",
   "name": "python3"
  },
  "language_info": {
   "codemirror_mode": {
    "name": "ipython",
    "version": 3
   },
   "file_extension": ".py",
   "mimetype": "text/x-python",
   "name": "python",
   "nbconvert_exporter": "python",
   "pygments_lexer": "ipython3",
   "version": "3.13.5"
  }
 },
 "nbformat": 4,
 "nbformat_minor": 5
}
