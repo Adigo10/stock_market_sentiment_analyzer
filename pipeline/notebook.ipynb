{
 "cells": [
  {
   "cell_type": "code",
   "execution_count": null,
   "id": "b58331de",
   "metadata": {},
   "outputs": [],
   "source": [
    "!pip install -r requirements.txt"
   ]
  },
  {
   "cell_type": "markdown",
   "id": "2de09e56",
   "metadata": {},
   "source": [
    "## Sentence Transformer Model Comparison\n",
    "\n",
    "| Model | Size | Speed | Quality | Use Case |\n",
    "|-------|------|-------|---------|----------|\n",
    "| `all-MiniLM-L6-v2` | 80MB | Fast | Good | Quick prototyping |\n",
    "| `all-mpnet-base-v2` | 420MB | Medium | Best | Production quality |\n",
    "| `paraphrase-MiniLM-L6-v2` | 80MB | Fast | Good | Paraphrase detection |\n",
    "| `multi-qa-MiniLM-L6-cos-v1` | 80MB | Fast | Good | Question-answering similarity |\n"
   ]
  },
  {
   "cell_type": "code",
   "execution_count": null,
   "id": "1fc8343b",
   "metadata": {},
   "outputs": [],
   "source": [
    "from pipeline import SimilarityExpansionPipeline"
   ]
  },
  {
   "cell_type": "code",
   "execution_count": null,
   "id": "e2ef26e0",
   "metadata": {},
   "outputs": [],
   "source": [
    "pipeline = SimilarityExpansionPipeline(\n",
    "    model_name='all-MiniLM-L6-v2',\n",
    "    similarity_threshold=0.5,\n",
    "    top_k=10\n",
    ")"
   ]
  },
  {
   "cell_type": "code",
   "execution_count": null,
   "id": "33600c57",
   "metadata": {},
   "outputs": [],
   "source": [
    "INPUT_FILE = 'sample.json' #Aditya pls change if required\n",
    "OUTPUT_FILE = 'output.json'\n",
    "\n",
    "final_articles = pipeline.run(INPUT_FILE, OUTPUT_FILE)"
   ]
  },
  {
   "cell_type": "code",
   "execution_count": null,
   "id": "0307c675",
   "metadata": {},
   "outputs": [],
   "source": [
    "pipeline.visualize_results(final_articles)"
   ]
  }
 ],
 "metadata": {
  "kernelspec": {
   "display_name": "base",
   "language": "python",
   "name": "python3"
  },
  "language_info": {
   "codemirror_mode": {
    "name": "ipython",
    "version": 3
   },
   "file_extension": ".py",
   "mimetype": "text/x-python",
   "name": "python",
   "nbconvert_exporter": "python",
   "pygments_lexer": "ipython3",
   "version": "3.13.5"
  }
 },
 "nbformat": 4,
 "nbformat_minor": 5
}
